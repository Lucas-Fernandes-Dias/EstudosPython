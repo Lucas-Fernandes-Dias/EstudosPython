{
 "cells": [
  {
   "cell_type": "markdown",
   "metadata": {},
   "source": [
    "# Exercícios\n",
    "\n",
    "## 1. Criando um Cadastro de Hóspedes\n",
    "\n",
    "Você está criando o sistema para registrar a entrada de hóspedes em um hotel. No hotel, os hóspedes podem ter quartos com 1, 2, 3 e 4 pessoas. Seu sistema deve conseguir:\n",
    "\n",
    "1. Identificar quantas pessoas o hóspede que acabou de chegar vai ter no quarto (perguntando por meio de input)\n",
    "2. De acordo com a quantidade de pessoas do hóspede, ele deve fazer um for para perguntar o cpf e o nome de cada pessoa, a fim de registrá-la no quarto (2 inputs para cada pessoa, 1 para o cpf e outro para o nome)\n",
    "3. O seu programa então deve gerar uma lista com todas as pessoas que ficarão no quarto em que cada item dessa lista é o nome da pessoa e o cpf da pessoa, assim:"
   ]
  },
  {
   "cell_type": "raw",
   "metadata": {},
   "source": [
    "quarto = [\n",
    "    ['Miguel', 'cpf:00123456000'],\n",
    "    ['Fernanda', 'cpf:11211001111'],\n",
    "    ['Marcos', 'cpf:21322256222'],\n",
    "    ['Mariah', 'cpf:33334353638'],\n",
    "]"
   ]
  },
  {
   "cell_type": "markdown",
   "metadata": {},
   "source": [
    "- Para simplificar, não vamos nos preocupar com possibilidades de \"tentar colocar mais de 1 hóspede, digitar o cpf errado, etc. Nosso objetivo é treinar a criação de uma rotina de cadastro"
   ]
  },
  {
   "cell_type": "code",
   "execution_count": 21,
   "metadata": {},
   "outputs": [
    {
     "name": "stdout",
     "output_type": "stream",
     "text": [
      "Para quantos Hóspedes será a reserva?:  2\n",
      "Qual o nome do hospede que ficará hospedado:  lucas\n",
      "Qual o cpf do hospede que ficará hospedado, com os pontos: 327.253.848-85\n",
      "[['LUCAS', 'cpf:327.253.848-85']]\n",
      "Qual o nome do hospede que ficará hospedado:  Leticia\n",
      "Qual o cpf do hospede que ficará hospedado, com os pontos: 358.376.038-75\n",
      "[['LUCAS', 'cpf:327.253.848-85'], ['LETICIA', 'cpf:358.376.038-75']]\n",
      "O hospede LUCAS tem o cpf:327.253.848-85\n",
      "O hospede LETICIA tem o cpf:358.376.038-75\n"
     ]
    }
   ],
   "source": [
    "qtd = int(input('Para quantos Hóspedes será a reserva?:  '))\n",
    "quarto = []\n",
    "for i in range(qtd):\n",
    "    nome = str(input('Qual o nome do hospede que ficará hospedado:  ')).upper()\n",
    "    cpf = str(input('Qual o cpf do hospede que ficará hospedado, com os pontos: '))\n",
    "    hospedes = [nome, f'cpf:{cpf}']\n",
    "    quarto.append(hospedes)\n",
    "    print(quarto)\n",
    "for i in range(qtd):\n",
    "    print(f'O hospede {quarto[i][0]} tem o {quarto[i][1]}')\n",
    "    \n",
    "\n",
    "\n"
   ]
  },
  {
   "cell_type": "markdown",
   "metadata": {},
   "source": [
    "## 2. Análise de Vendas\n",
    "\n",
    "Nesse exercício vamos fazer uma \"análise simples\" de atingimento de Meta.\n",
    "\n",
    "Temos uma lista com os vendedores e os valores de vendas e queremos identificar (printar) quais os vendedores que bateram a meta e qual foi o valor que eles venderam."
   ]
  },
  {
   "cell_type": "code",
   "execution_count": 38,
   "metadata": {},
   "outputs": [
    {
     "name": "stdout",
     "output_type": "stream",
     "text": [
      "O vendedor João vendeu 15000 e bateu a meta de 10000, superou a meta em R$ 5000\n",
      "O vendedor Julia vendeu 27000 e bateu a meta de 10000, superou a meta em R$ 17000\n",
      "O vendedor Ana vendeu 10300 e bateu a meta de 10000, superou a meta em R$ 300\n"
     ]
    }
   ],
   "source": [
    "meta = 10000\n",
    "vendas = [\n",
    "    ['João', 15000],\n",
    "    ['Julia', 27000],\n",
    "    ['Marcus', 9900],\n",
    "    ['Maria', 3750],\n",
    "    ['Ana', 10300],\n",
    "    ['Alon', 7870],\n",
    "]\n",
    "\n",
    "\n",
    "for i in vendas:\n",
    "    if i[1] >= 10000:\n",
    "        print(f'O vendedor {i[0]} vendeu {i[1]} e bateu a meta de {meta}, superou a meta em R$ {i[1] - meta}')\n",
    "\n"
   ]
  },
  {
   "cell_type": "markdown",
   "metadata": {},
   "source": [
    "## 3. Comparação com Ano Anterior\n",
    "\n",
    "Digamos que você está analisando as vendas de produtos de um ecommerce e quer identificar quais produtos tiveram no ano de 2020 mais vendas do que no ano de 2019, para reportar isso para a diretoria.\n",
    "\n",
    "Sua resposta pode ser um print de cada produto, qual foi a venda de 2019, a venda de 2020 e o % de crescimento de 2020 para 2019.\n",
    "\n",
    "Lembrando, para calcular o % de crescimento de um produto de um ano para o outro, podemos fazer: (vendas_produto2020/vendas_produto2019 - 1)\n",
    "\n",
    "Dica: lembre do enumerate, ele pode facilitar seu \"for\""
   ]
  },
  {
   "cell_type": "code",
   "execution_count": 84,
   "metadata": {},
   "outputs": [
    {
     "name": "stdout",
     "output_type": "stream",
     "text": [
      "O iphone vendeu em 2019 R$ 558,147 e em 2020 R$ 951,642 com um crescimento de 70.5%\n",
      "O tv vendeu em 2019 R$ 405,252 e em 2020 R$ 787,604 com um crescimento de 94.3%\n",
      "O máquina de café vendeu em 2019 R$ 718,654 e em 2020 R$ 867,660 com um crescimento de 20.7%\n",
      "O notebook dell vendeu em 2019 R$ 422,760 e em 2020 R$ 694,913 com um crescimento de 64.4%\n",
      "O notebook hp vendeu em 2019 R$ 154,753 e em 2020 R$ 539,704 com um crescimento de 248.8%\n",
      "O microsoft surface vendeu em 2019 R$ 438,508 e em 2020 R$ 667,179 com um crescimento de 52.1%\n",
      "O webcam vendeu em 2019 R$ 237,467 e em 2020 R$ 295,633 com um crescimento de 24.5%\n",
      "O caixa de som vendeu em 2019 R$ 489,705 e em 2020 R$ 725,316 com um crescimento de 48.1%\n",
      "O microfone vendeu em 2019 R$ 328,311 e em 2020 R$ 644,622 com um crescimento de 96.3%\n",
      "O câmera canon vendeu em 2019 R$ 591,120 e em 2020 R$ 994,303 com um crescimento de 68.2%\n"
     ]
    }
   ],
   "source": [
    "produtos = ['iphone', 'galaxy', 'ipad', 'tv', 'máquina de café', 'kindle', 'geladeira', 'adega', 'notebook dell', 'notebook hp', 'notebook asus', 'microsoft surface', 'webcam', 'caixa de som', 'microfone', 'câmera canon']\n",
    "vendas2019 = [558147,712350,573823,405252,718654,531580,973139,892292,422760,154753,887061,438508,237467,489705,328311,591120]\n",
    "vendas2020 = [951642,244295,26964,787604,867660,78830,710331,646016,694913,539704,324831,667179,295633,725316,644622,994303]\n",
    "\n",
    "for i, nome in enumerate(produtos):\n",
    "    if vendas2020[i] > vendas2019[i]:\n",
    "        crescimento = vendas2020[i] / vendas2019[i] - 1\n",
    "        print(f'O {nome} vendeu em 2019 R$ {vendas2019[i]:,} e em 2020 R$ {vendas2020[i]:,} com um crescimento de {crescimento:.1%}')\n",
    "    \n",
    "\n",
    "\n",
    "\n",
    "\n"
   ]
  },
  {
   "cell_type": "code",
   "execution_count": null,
   "metadata": {},
   "outputs": [],
   "source": []
  }
 ],
 "metadata": {
  "kernelspec": {
   "display_name": "Python 3 (ipykernel)",
   "language": "python",
   "name": "python3"
  },
  "language_info": {
   "codemirror_mode": {
    "name": "ipython",
    "version": 3
   },
   "file_extension": ".py",
   "mimetype": "text/x-python",
   "name": "python",
   "nbconvert_exporter": "python",
   "pygments_lexer": "ipython3",
   "version": "3.9.12"
  }
 },
 "nbformat": 4,
 "nbformat_minor": 4
}
