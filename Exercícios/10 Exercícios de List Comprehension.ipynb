{
 "cells": [
  {
   "cell_type": "markdown",
   "metadata": {},
   "source": [
    "# Exercícios\n",
    "\n",
    "## 1. Tamanho do Pedido de Compras\n",
    "\n",
    "Nesse exercício vamos avaliar o estoque de uma empresa. Vamos considerar que todos os produtos dessa empresa são comprados em lotes de 500 unidades.\n",
    "\n",
    "- Caso o estoque esteja abaixo de 1000 unidades, devemos fazer um pedido de 500 unidades.\n",
    "- Caso o estoque esteja abaixo de 200 unidades, devemos fazer um pedido de 1000 unidades.\n",
    "\n",
    "Defina o valor a ser pedido de cada produto para enviar ao time de compras."
   ]
  },
  {
   "cell_type": "code",
   "execution_count": null,
   "metadata": {},
   "outputs": [],
   "source": []
  },
  {
   "cell_type": "code",
   "execution_count": 2,
   "metadata": {
    "ExecuteTime": {
     "end_time": "2022-06-10T13:40:41.988244Z",
     "start_time": "2022-06-10T13:40:41.971253Z"
    }
   },
   "outputs": [
    {
     "name": "stdout",
     "output_type": "stream",
     "text": [
      "[500, 500, 500, 500, 500, 500, 500, 500, 500, 500, 500, 500, 500, 500, 500, 500, 500, 1000, 1000, 500, 500, 500, 500, 1000, 500, 500, 500, 500, 1000, 500, 500, 1000, 500, 500, 500, 500, 500]\n"
     ]
    }
   ],
   "source": [
    "estoque = [('BSA2199',396),('PPF5239',251),('BSA1212',989),('PPF2154',449),('BEB3410',241),('PPF8999',527),('EMB9591',601),('BSA2006',314),('EMB3604',469),('EMB2070',733),('PPF9018',339),('PPF1468',906),('BSA5819',291),('PPF8666',850),('BEB2983',353),('BEB5877',456),('PPF5008',963),('PPF3877',185),('PPF7321',163),('BSA8833',644),('PPF4980',421),('PPF3063',757),('BSA2089',271),('BSA8398',180),('EMB4622',515),('EMB9814',563),('PPF3784',229),('PPF2398',270),('BEB3211',181),('PPF8655',459),('PPF1874',799),('PPF8789',126),('PPF6324',375),('EMB9290',883),('BSA5516',555),('BSA8451',243),('BSA8213',423)]\n",
    "\n",
    "lista = [1000 if valor < 200 else 500 for item, valor in estoque]\n",
    "print(lista)"
   ]
  },
  {
   "cell_type": "code",
   "execution_count": 5,
   "metadata": {
    "ExecuteTime": {
     "end_time": "2022-06-10T13:44:53.805356Z",
     "start_time": "2022-06-10T13:44:53.795361Z"
    }
   },
   "outputs": [
    {
     "name": "stdout",
     "output_type": "stream",
     "text": [
      "[500, 500, 500, 500, 500, 500, 500, 500, 500, 500, 500, 500, 500, 500, 500, 500, 500, 1000, 1000, 500, 500, 500, 500, 1000, 500, 500, 500, 500, 1000, 500, 500, 1000, 500, 500, 500, 500, 500]\n"
     ]
    }
   ],
   "source": [
    "qtd_compra = 500\n",
    "compra_futura = [qtd_compra * 1 if 200 < qtd  else qtd_compra * 2 for p, qtd in estoque] \n",
    "print(compra_futura)"
   ]
  }
 ],
 "metadata": {
  "kernelspec": {
   "display_name": "Python 3 (ipykernel)",
   "language": "python",
   "name": "python3"
  },
  "language_info": {
   "codemirror_mode": {
    "name": "ipython",
    "version": 3
   },
   "file_extension": ".py",
   "mimetype": "text/x-python",
   "name": "python",
   "nbconvert_exporter": "python",
   "pygments_lexer": "ipython3",
   "version": "3.9.12"
  },
  "varInspector": {
   "cols": {
    "lenName": 16,
    "lenType": 16,
    "lenVar": 40
   },
   "kernels_config": {
    "python": {
     "delete_cmd_postfix": "",
     "delete_cmd_prefix": "del ",
     "library": "var_list.py",
     "varRefreshCmd": "print(var_dic_list())"
    },
    "r": {
     "delete_cmd_postfix": ") ",
     "delete_cmd_prefix": "rm(",
     "library": "var_list.r",
     "varRefreshCmd": "cat(var_dic_list()) "
    }
   },
   "types_to_exclude": [
    "module",
    "function",
    "builtin_function_or_method",
    "instance",
    "_Feature"
   ],
   "window_display": false
  }
 },
 "nbformat": 4,
 "nbformat_minor": 4
}
